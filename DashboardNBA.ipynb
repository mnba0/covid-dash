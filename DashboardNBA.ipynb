{
 "cells": [
  {
   "cell_type": "code",
   "execution_count": 58,
   "id": "20393a1a-9b94-4c6d-8516-7f7200eb8f31",
   "metadata": {},
   "outputs": [],
   "source": [
    "from IPython.display import clear_output\n",
    "import ipywidgets as wdg\n",
    "import pandas as pd\n",
    "import numpy as np\n",
    "import matplotlib.pyplot as plt\n",
    "import json\n",
    "from uk_covid19 import Cov19API"
   ]
  },
  {
   "cell_type": "code",
   "execution_count": 59,
   "id": "f90e0b71-c73c-4f9d-98b3-e76dc4724048",
   "metadata": {},
   "outputs": [],
   "source": [
    "%matplotlib inline\n",
    "plt.rcParams['figure.dpi'] = 100"
   ]
  },
  {
   "cell_type": "code",
   "execution_count": 60,
   "id": "4fea00a9-cf8f-43c5-b90f-7cb497df70f8",
   "metadata": {},
   "outputs": [],
   "source": [
    "with open(\"vaccinated.json\", \"rt\") as INFILE:\n",
    "    data=json.load(INFILE)"
   ]
  },
  {
   "cell_type": "code",
   "execution_count": 61,
   "id": "b25903a6-423a-47d9-a92c-3b7723c730ce",
   "metadata": {},
   "outputs": [],
   "source": [
    "def parse_date(datestring):\n",
    "    \"\"\" Convert a date string into a pandas datetime object \"\"\"\n",
    "    return pd.to_datetime(datestring, format=\"%Y-%m-%d\")"
   ]
  },
  {
   "cell_type": "code",
   "execution_count": 62,
   "id": "fd4fd681-2741-4755-abd4-ec62e0b942d7",
   "metadata": {},
   "outputs": [],
   "source": [
    "def wrangle_data(rawdata):\n",
    "    \n",
    "    datalist=rawdata['data']\n",
    "    dates=[dictionary['date'] for dictionary in datalist ]\n",
    "    dates.sort()\n",
    "    \n",
    "    startdate=parse_date(dates[0])\n",
    "    enddate=parse_date(dates[-1])\n",
    "    index=pd.date_range(startdate, enddate, freq='D')\n",
    "    vaccinateddf=pd.DataFrame(index=index, columns=['cases', 'vaccine'])\n",
    "    \n",
    "    for entry in datalist: \n",
    "        date=parse_date(entry['date'])\n",
    "    for column in ['cases', 'vaccine']:\n",
    "        \n",
    "        if pd.isna(vaccinateddf.loc[date, column]): \n",
    "            \n",
    "            value= float(entry[column]) if entry[column]!=None else 0.0\n",
    "            \n",
    "            vaccinateddf.loc[date, column]=value\n",
    "            \n",
    "\n",
    "    vaccinateddf.fillna(0.0, inplace=True)\n",
    "            \n",
    "    return vaccinateddf\n",
    "\n",
    "vaccinateddf=wrangle_data(data) \n",
    "\n"
   ]
  },
  {
   "cell_type": "code",
   "execution_count": 63,
   "id": "4659d583-e4b7-49ce-afe2-bc22e5f003bf",
   "metadata": {},
   "outputs": [
    {
     "data": {
      "application/vnd.jupyter.widget-view+json": {
       "model_id": "bb36139545a343c1bb63e163b50da19a",
       "version_major": 2,
       "version_minor": 0
      },
      "text/plain": [
       "Button(description='Refresh data', icon='download', style=ButtonStyle(), tooltip='Click to download current Pu…"
      ]
     },
     "metadata": {},
     "output_type": "display_data"
    }
   ],
   "source": [
    "\n",
    "def access_api(button):\n",
    "    \n",
    "    apibutton.icon=\"check\"\n",
    "    apibutton.disabled=True\n",
    "\n",
    "    \n",
    "apibutton=wdg.Button(\n",
    "    description='Refresh data',\n",
    "    disabled=False,\n",
    "    button_style='', \n",
    "    tooltip='Click to download current Public Health England data',\n",
    "    icon='download' \n",
    ")\n",
    "\n",
    "\n",
    "apibutton.on_click(access_api)\n",
    "\n",
    "\n",
    "display(apibutton)"
   ]
  },
  {
   "cell_type": "code",
   "execution_count": 68,
   "id": "ee597f13-54c0-41e3-a98d-94876024e392",
   "metadata": {},
   "outputs": [],
   "source": [
    "# in the dashboard, this should be computed from the json files\n",
    "vaccinateddf=pd.read_pickle(\"vaccinateddf.pkl\")"
   ]
  },
  {
   "cell_type": "markdown",
   "id": "4a75cd7a-fdf4-4a98-8df2-c147c461fc74",
   "metadata": {},
   "source": [
    "# Number of Cases compared to number of people vaccinated"
   ]
  },
  {
   "cell_type": "code",
   "execution_count": 65,
   "id": "50f271dc-f0f0-4a5e-b6f4-a34fcab05074",
   "metadata": {},
   "outputs": [
    {
     "data": {
      "application/vnd.jupyter.widget-view+json": {
       "model_id": "ebedb2d86be44a298d3c7c61775c5e2a",
       "version_major": 2,
       "version_minor": 0
      },
      "text/plain": [
       "HBox(children=(SelectMultiple(description='Stats:', index=(0, 1), options=('cases', 'vaccine'), rows=2, value=…"
      ]
     },
     "metadata": {},
     "output_type": "display_data"
    },
    {
     "data": {
      "application/vnd.jupyter.widget-view+json": {
       "model_id": "71513d76379146d9881cf8ce8f56ecc1",
       "version_major": 2,
       "version_minor": 0
      },
      "text/plain": [
       "Output()"
      ]
     },
     "metadata": {},
     "output_type": "display_data"
    }
   ],
   "source": [
    "series=wdg.SelectMultiple(\n",
    "    options=['cases', 'vaccine'],\n",
    "    value=['cases', 'vaccine'],\n",
    "    rows=2,\n",
    "    description='Stats:',\n",
    "    disabled=False\n",
    ")\n",
    "\n",
    "scale=wdg.RadioButtons(\n",
    "    options=['linear', 'log'],\n",
    "\n",
    "    description='Scale:',\n",
    "    disabled=False\n",
    ")\n",
    "\n",
    "# try replacing HBox with a VBox\n",
    "controls=wdg.HBox([series, scale])\n",
    "\n",
    "def vaccinated_graph(gcols, gscale):\n",
    "    if gscale=='linear':\n",
    "        logscale=False\n",
    "    else:\n",
    "        logscale=True\n",
    "    ncols=len(gcols)\n",
    "    if ncols>0:\n",
    "        vaccinateddf[list(gcols)].plot(logy=logscale)\n",
    "        plt.show() # important - graphs won't update if this is missing \n",
    "    else:\n",
    "        print(\"Click to select data for graph\")\n",
    "        print(\"(CTRL-Click to select more than one category)\")\n",
    "\n",
    "# keep calling timeseries_graph(gcols=value_of_series, gscale=value_of_scale); \n",
    "# capture output in widget graph   \n",
    "graph=wdg.interactive_output(vaccinated_graph, {'gcols': series, 'gscale': scale})\n",
    "\n",
    "display(controls, graph)"
   ]
  },
  {
   "cell_type": "code",
   "execution_count": null,
   "id": "d6f994ce-15c3-4618-b287-2a4ef2f1f862",
   "metadata": {},
   "outputs": [],
   "source": []
  },
  {
   "cell_type": "code",
   "execution_count": 57,
   "id": "dc0183a4-db1b-4c9b-9f2d-03c2680e0b7d",
   "metadata": {},
   "outputs": [
    {
     "data": {
      "application/vnd.jupyter.widget-view+json": {
       "model_id": "78ef013657d84b0c9444717c0779396f",
       "version_major": 2,
       "version_minor": 0
      },
      "text/plain": [
       "HBox(children=(Output(outputs=({'output_type': 'display_data', 'data': {'text/plain': '<Figure size 600x400 wi…"
      ]
     },
     "metadata": {},
     "output_type": "display_data"
    }
   ],
   "source": [
    "\n",
    "ctrls=wdg.VBox([series, scale])\n",
    "\n",
    "form=wdg.HBox([graph, ctrls])\n",
    "\n",
    "display(form)"
   ]
  },
  {
   "cell_type": "markdown",
   "id": "e5e22e2d-cf84-4b51-a1ff-88b49c6cc7a5",
   "metadata": {},
   "source": [
    "# Created by Nur Baba-Ahmed with credit to Fabrizio Smeraldi"
   ]
  },
  {
   "cell_type": "markdown",
   "id": "2495fa87-c15e-4e93-ac78-e6dca9dccd9e",
   "metadata": {},
   "source": [
    "# Source: Based on UK Government data published by Public Health England."
   ]
  },
  {
   "cell_type": "code",
   "execution_count": null,
   "id": "9ec34ecf-514f-488c-8c8a-8eb438eca160",
   "metadata": {},
   "outputs": [],
   "source": []
  }
 ],
 "metadata": {
  "kernelspec": {
   "display_name": "Python 3 (ipykernel)",
   "language": "python",
   "name": "python3"
  },
  "language_info": {
   "codemirror_mode": {
    "name": "ipython",
    "version": 3
   },
   "file_extension": ".py",
   "mimetype": "text/x-python",
   "name": "python",
   "nbconvert_exporter": "python",
   "pygments_lexer": "ipython3",
   "version": "3.9.6"
  }
 },
 "nbformat": 4,
 "nbformat_minor": 5
}
